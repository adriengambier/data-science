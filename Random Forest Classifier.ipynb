{
 "cells": [
  {
   "cell_type": "markdown",
   "metadata": {},
   "source": [
    "# Machine Learning with Random Forest"
   ]
  },
  {
   "cell_type": "markdown",
   "metadata": {},
   "source": [
    "In this notebook, we will use data relative to term deposits available [here](https://www.kaggle.com/sharanmk/bank-marketing-term-deposit). Information about the potential customer (age, job, ...) and about how the current and the previous campaign was conducted is provided in order to find key features for the best subscription ratio.\n",
    "\n",
    "In the first part of this notebook, data visualization is used to determine the category of people to target. In the second part, a Random Forest classifier is trained to predict if the client will subscribe to a term deposit or not from his profile and the campaign information."
   ]
  },
  {
   "cell_type": "code",
   "execution_count": 2,
   "metadata": {},
   "outputs": [],
   "source": [
    "import pandas as pd\n",
    "import matplotlib.pyplot as plt\n",
    "import seaborn as sns\n",
    "import numpy as np\n",
    "%matplotlib inline"
   ]
  },
  {
   "cell_type": "markdown",
   "metadata": {},
   "source": [
    "# Data"
   ]
  },
  {
   "cell_type": "markdown",
   "metadata": {},
   "source": [
    "The dataset contains the following features :\n",
    "* 'age' : Age of the customer\n",
    "* 'job' : Job of the customer\n",
    "* 'marital' : Marital status of the customer ('divorced', 'married', 'single')\n",
    "* 'education' : Education level ('primary', 'secondary', 'tertiary', 'unknown')\n",
    "* 'default' : credit in default ('yes', 'no')\n",
    "* 'balance' : account balance (in euros)\n",
    "* 'housing' : housing loan ('yes', 'no')\n",
    "* 'loan' : personal loan ('yes', 'no')\n",
    "* 'contact' : contact communication type ('cellular', 'telephone', 'unknown')\n",
    "* 'day' : last contact day ('mon', 'tue', ...)\n",
    "* 'month' : last contact month ('jan', 'feb', ...)\n",
    "* 'duration' : last contact duration (in seconds), should no be included\n",
    "* 'campaign' : number of contacts during this campaign\n",
    "* 'pdays' : number of days the customer was last contacted during previous campaign\n",
    "* 'previous' : number of contacts during previous campaign\n",
    "* 'poutcome' : outcome of previous campaign ('failure', 'other', 'success', 'unknown')\n",
    "* 'y' : subscribed a term deposit ('yes', 'no')"
   ]
  },
  {
   "cell_type": "code",
   "execution_count": 3,
   "metadata": {},
   "outputs": [],
   "source": [
    "bank_data = pd.read_csv('../datasets/bank-marketing/bank_customer_survey.csv')"
   ]
  },
  {
   "cell_type": "code",
   "execution_count": 4,
   "metadata": {
    "scrolled": true
   },
   "outputs": [],
   "source": [
    "bank_data = bank_data.rename(columns = {'y':'subscribed'})"
   ]
  },
  {
   "cell_type": "code",
   "execution_count": 5,
   "metadata": {},
   "outputs": [],
   "source": [
    "bank_data['default'] = [1 if housing == 'yes' else 0 for housing in bank_data['default']]\n",
    "bank_data['housing'] = [1 if housing == 'yes' else 0 for housing in bank_data['housing']]\n",
    "bank_data['loan'] = [1 if loan == 'yes' else 0 for loan in bank_data['loan']]"
   ]
  },
  {
   "cell_type": "code",
   "execution_count": 6,
   "metadata": {},
   "outputs": [
    {
     "data": {
      "text/plain": [
       "Index(['age', 'job', 'marital', 'education', 'default', 'balance', 'housing',\n",
       "       'loan', 'contact', 'day', 'month', 'duration', 'campaign', 'pdays',\n",
       "       'previous', 'poutcome', 'subscribed'],\n",
       "      dtype='object')"
      ]
     },
     "execution_count": 6,
     "metadata": {},
     "output_type": "execute_result"
    }
   ],
   "source": [
    "bank_data.columns"
   ]
  },
  {
   "cell_type": "code",
   "execution_count": 7,
   "metadata": {},
   "outputs": [
    {
     "data": {
      "text/html": [
       "<div>\n",
       "<style scoped>\n",
       "    .dataframe tbody tr th:only-of-type {\n",
       "        vertical-align: middle;\n",
       "    }\n",
       "\n",
       "    .dataframe tbody tr th {\n",
       "        vertical-align: top;\n",
       "    }\n",
       "\n",
       "    .dataframe thead th {\n",
       "        text-align: right;\n",
       "    }\n",
       "</style>\n",
       "<table border=\"1\" class=\"dataframe\">\n",
       "  <thead>\n",
       "    <tr style=\"text-align: right;\">\n",
       "      <th></th>\n",
       "      <th>age</th>\n",
       "      <th>job</th>\n",
       "      <th>marital</th>\n",
       "      <th>education</th>\n",
       "      <th>default</th>\n",
       "      <th>balance</th>\n",
       "      <th>housing</th>\n",
       "      <th>loan</th>\n",
       "      <th>contact</th>\n",
       "      <th>day</th>\n",
       "      <th>month</th>\n",
       "      <th>duration</th>\n",
       "      <th>campaign</th>\n",
       "      <th>pdays</th>\n",
       "      <th>previous</th>\n",
       "      <th>poutcome</th>\n",
       "      <th>subscribed</th>\n",
       "    </tr>\n",
       "  </thead>\n",
       "  <tbody>\n",
       "    <tr>\n",
       "      <th>0</th>\n",
       "      <td>58</td>\n",
       "      <td>management</td>\n",
       "      <td>married</td>\n",
       "      <td>tertiary</td>\n",
       "      <td>0</td>\n",
       "      <td>2143</td>\n",
       "      <td>1</td>\n",
       "      <td>0</td>\n",
       "      <td>unknown</td>\n",
       "      <td>5</td>\n",
       "      <td>may</td>\n",
       "      <td>261</td>\n",
       "      <td>1</td>\n",
       "      <td>-1</td>\n",
       "      <td>0</td>\n",
       "      <td>unknown</td>\n",
       "      <td>0</td>\n",
       "    </tr>\n",
       "    <tr>\n",
       "      <th>1</th>\n",
       "      <td>44</td>\n",
       "      <td>technician</td>\n",
       "      <td>single</td>\n",
       "      <td>secondary</td>\n",
       "      <td>0</td>\n",
       "      <td>29</td>\n",
       "      <td>1</td>\n",
       "      <td>0</td>\n",
       "      <td>unknown</td>\n",
       "      <td>5</td>\n",
       "      <td>may</td>\n",
       "      <td>151</td>\n",
       "      <td>1</td>\n",
       "      <td>-1</td>\n",
       "      <td>0</td>\n",
       "      <td>unknown</td>\n",
       "      <td>0</td>\n",
       "    </tr>\n",
       "    <tr>\n",
       "      <th>2</th>\n",
       "      <td>33</td>\n",
       "      <td>entrepreneur</td>\n",
       "      <td>married</td>\n",
       "      <td>secondary</td>\n",
       "      <td>0</td>\n",
       "      <td>2</td>\n",
       "      <td>1</td>\n",
       "      <td>1</td>\n",
       "      <td>unknown</td>\n",
       "      <td>5</td>\n",
       "      <td>may</td>\n",
       "      <td>76</td>\n",
       "      <td>1</td>\n",
       "      <td>-1</td>\n",
       "      <td>0</td>\n",
       "      <td>unknown</td>\n",
       "      <td>0</td>\n",
       "    </tr>\n",
       "    <tr>\n",
       "      <th>3</th>\n",
       "      <td>47</td>\n",
       "      <td>blue</td>\n",
       "      <td>married</td>\n",
       "      <td>unknown</td>\n",
       "      <td>0</td>\n",
       "      <td>1506</td>\n",
       "      <td>1</td>\n",
       "      <td>0</td>\n",
       "      <td>unknown</td>\n",
       "      <td>5</td>\n",
       "      <td>may</td>\n",
       "      <td>92</td>\n",
       "      <td>1</td>\n",
       "      <td>-1</td>\n",
       "      <td>0</td>\n",
       "      <td>unknown</td>\n",
       "      <td>0</td>\n",
       "    </tr>\n",
       "    <tr>\n",
       "      <th>4</th>\n",
       "      <td>33</td>\n",
       "      <td>unknown</td>\n",
       "      <td>single</td>\n",
       "      <td>unknown</td>\n",
       "      <td>0</td>\n",
       "      <td>1</td>\n",
       "      <td>0</td>\n",
       "      <td>0</td>\n",
       "      <td>unknown</td>\n",
       "      <td>5</td>\n",
       "      <td>may</td>\n",
       "      <td>198</td>\n",
       "      <td>1</td>\n",
       "      <td>-1</td>\n",
       "      <td>0</td>\n",
       "      <td>unknown</td>\n",
       "      <td>0</td>\n",
       "    </tr>\n",
       "  </tbody>\n",
       "</table>\n",
       "</div>"
      ],
      "text/plain": [
       "   age           job  marital  education  default  balance  housing  loan  \\\n",
       "0   58    management  married   tertiary        0     2143        1     0   \n",
       "1   44    technician   single  secondary        0       29        1     0   \n",
       "2   33  entrepreneur  married  secondary        0        2        1     1   \n",
       "3   47          blue  married    unknown        0     1506        1     0   \n",
       "4   33       unknown   single    unknown        0        1        0     0   \n",
       "\n",
       "   contact  day month  duration  campaign  pdays  previous poutcome  \\\n",
       "0  unknown    5   may       261         1     -1         0  unknown   \n",
       "1  unknown    5   may       151         1     -1         0  unknown   \n",
       "2  unknown    5   may        76         1     -1         0  unknown   \n",
       "3  unknown    5   may        92         1     -1         0  unknown   \n",
       "4  unknown    5   may       198         1     -1         0  unknown   \n",
       "\n",
       "   subscribed  \n",
       "0           0  \n",
       "1           0  \n",
       "2           0  \n",
       "3           0  \n",
       "4           0  "
      ]
     },
     "execution_count": 7,
     "metadata": {},
     "output_type": "execute_result"
    }
   ],
   "source": [
    "bank_data.head()"
   ]
  },
  {
   "cell_type": "code",
   "execution_count": 8,
   "metadata": {},
   "outputs": [
    {
     "name": "stdout",
     "output_type": "stream",
     "text": [
      "<class 'pandas.core.frame.DataFrame'>\n",
      "RangeIndex: 45211 entries, 0 to 45210\n",
      "Data columns (total 17 columns):\n",
      "age           45211 non-null int64\n",
      "job           45211 non-null object\n",
      "marital       45211 non-null object\n",
      "education     45211 non-null object\n",
      "default       45211 non-null int64\n",
      "balance       45211 non-null int64\n",
      "housing       45211 non-null int64\n",
      "loan          45211 non-null int64\n",
      "contact       45211 non-null object\n",
      "day           45211 non-null int64\n",
      "month         45211 non-null object\n",
      "duration      45211 non-null int64\n",
      "campaign      45211 non-null int64\n",
      "pdays         45211 non-null int64\n",
      "previous      45211 non-null int64\n",
      "poutcome      45211 non-null object\n",
      "subscribed    45211 non-null int64\n",
      "dtypes: int64(11), object(6)\n",
      "memory usage: 5.9+ MB\n"
     ]
    }
   ],
   "source": [
    "bank_data.info()"
   ]
  },
  {
   "cell_type": "markdown",
   "metadata": {},
   "source": [
    "# Exploratory Data Analysis"
   ]
  },
  {
   "cell_type": "markdown",
   "metadata": {},
   "source": [
    "To determine whether or not a customer will subscribe a term deposit, we will first analyse the type of job they do. "
   ]
  },
  {
   "cell_type": "code",
   "execution_count": 10,
   "metadata": {},
   "outputs": [
    {
     "data": {
      "text/plain": [
       "Text(0, 0.5, 'Count')"
      ]
     },
     "execution_count": 10,
     "metadata": {},
     "output_type": "execute_result"
    },
    {
     "data": {
      "image/png": "[encoded data removed]",
      "text/plain": [
       "<Figure size 720x432 with 1 Axes>"
      ]
     },
     "metadata": {
      "needs_background": "light"
     },
     "output_type": "display_data"
    }
   ],
   "source": [
    "plt.figure(figsize=(10, 6))\n",
    "sns.countplot(x = 'job', data = bank_data, order = bank_data['job'].value_counts().index, palette='Blues_d')\n",
    "plt.title('Count of the most common jobs', fontsize=18)\n",
    "plt.xticks(rotation=45)\n",
    "plt.xlabel('Job', fontsize=15)\n",
    "plt.ylabel('Count', fontsize=15)"
   ]
  },
  {
   "cell_type": "markdown",
   "metadata": {},
   "source": [
    "Most people registered in the database are either blue-collars, managers or technicians. Students are obviously the less represented as it is quite unlikely they have enough money to invest. But what job is the most likely to subscribe a term deposit ?"
   ]
  },
  {
   "cell_type": "code",
   "execution_count": 11,
   "metadata": {},
   "outputs": [],
   "source": [
    "ratio_job = bank_data[['job', 'subscribed']].groupby(['job']).mean().reset_index()"
   ]
  },
  {
   "cell_type": "code",
   "execution_count": 12,
   "metadata": {},
   "outputs": [
    {
     "data": {
      "text/plain": [
       "Text(0, 0.5, 'Subscribed')"
      ]
     },
     "execution_count": 12,
     "metadata": {},
     "output_type": "execute_result"
    },
    {
     "data": {
      "image/png": "[encoded data removed]",
      "text/plain": [
       "<Figure size 720x432 with 1 Axes>"
      ]
     },
     "metadata": {
      "needs_background": "light"
     },
     "output_type": "display_data"
    }
   ],
   "source": [
    "plt.figure(figsize=(10, 6))\n",
    "sns.barplot(x = 'job', y = 'subscribed', data = ratio_job, order = ratio_job.sort_values(by=['subscribed'], ascending=False)['job'], palette='Set2')\n",
    "plt.title('Ranking of jobs with the highest subscription ratio', fontsize=18)\n",
    "plt.xticks(rotation=45)\n",
    "plt.xlabel('Job', fontsize=15)\n",
    "plt.ylabel('Subscribed', fontsize=15)"
   ]
  },
  {
   "cell_type": "markdown",
   "metadata": {},
   "source": [
    "Students have the highest subscription ratio but the low number of students may no be representative. Let's explore their education level and see if it correlates with their subscription"
   ]
  },
  {
   "cell_type": "code",
   "execution_count": 13,
   "metadata": {},
   "outputs": [],
   "source": [
    "loan_df = bank_data[['job', 'loan', 'housing']].groupby('job').mean().reset_index()\n",
    "loan_df = loan_df.sort_values(by=['loan'], ascending=False)"
   ]
  },
  {
   "cell_type": "code",
   "execution_count": 14,
   "metadata": {},
   "outputs": [
    {
     "data": {
      "image/png": "[encoded data removed]",
      "text/plain": [
       "<Figure size 720x432 with 1 Axes>"
      ]
     },
     "metadata": {
      "needs_background": "light"
     },
     "output_type": "display_data"
    }
   ],
   "source": [
    "plt.figure(figsize=(10, 6))\n",
    "\n",
    "ind = np.arange(len(loan_df))\n",
    "width = .35\n",
    "\n",
    "plt.bar(ind, loan_df['loan'], width, label='Personal')\n",
    "plt.bar(ind+width, loan_df['housing'], width, label='Housing')\n",
    "\n",
    "plt.title('Ratio of loan taken (Personal / Housing)', fontsize=18)\n",
    "plt.xlabel('Job', fontsize=15)\n",
    "plt.ylabel('Ratio', fontsize=15)\n",
    "\n",
    "plt.xticks(ind + width / 2, loan_df['job'], rotation=45)\n",
    "plt.legend(loc='best', prop={'size': 12})\n",
    "plt.show()"
   ]
  },
  {
   "cell_type": "markdown",
   "metadata": {},
   "source": [
    "Student may not be the richest socio-professional category but it is the one with the least loan taken and among the one with the least housing loan taken. The same applies to retirees who invest more in term deposits than take loans. Knowing that people who take out a loan can't be considered as having a job, we will see if it reflects on their balance account."
   ]
  },
  {
   "cell_type": "code",
   "execution_count": 15,
   "metadata": {},
   "outputs": [
    {
     "data": {
      "text/plain": [
       "([<matplotlib.axis.XTick at 0x1e8f0c2bac8>,\n",
       "  <matplotlib.axis.XTick at 0x1e8f0c2bb00>],\n",
       " <a list of 2 Text xticklabel objects>)"
      ]
     },
     "execution_count": 15,
     "metadata": {},
     "output_type": "execute_result"
    },
    {
     "data": {
      "text/plain": [
       "<Figure size 720x432 with 0 Axes>"
      ]
     },
     "metadata": {},
     "output_type": "display_data"
    },
    {
     "data": {
      "image/png": "[encoded data removed]",
      "text/plain": [
       "<Figure size 360x360 with 1 Axes>"
      ]
     },
     "metadata": {
      "needs_background": "light"
     },
     "output_type": "display_data"
    }
   ],
   "source": [
    "plt.figure(figsize=(10, 6))\n",
    "sns.catplot(x='subscribed', y='balance', data=bank_data, kind='boxen')\n",
    "plt.title('Balance account when subscribed or not to a term deposit', fontsize=18)\n",
    "plt.xlabel('Subscribed', fontsize=15)\n",
    "plt.ylabel('Balance', fontsize=15)\n",
    "plt.xticks([0, 1], ['no', 'yes'])"
   ]
  },
  {
   "cell_type": "code",
   "execution_count": 16,
   "metadata": {},
   "outputs": [],
   "source": [
    "bank_data['age_range'] = pd.qcut(bank_data['age'], q=8)"
   ]
  },
  {
   "cell_type": "code",
   "execution_count": 17,
   "metadata": {},
   "outputs": [
    {
     "data": {
      "text/plain": [
       "<matplotlib.axes._subplots.AxesSubplot at 0x1e8f0c2bfd0>"
      ]
     },
     "execution_count": 17,
     "metadata": {},
     "output_type": "execute_result"
    },
    {
     "data": {
      "image/png": "[encoded data removed]",
      "text/plain": [
       "<Figure size 720x432 with 1 Axes>"
      ]
     },
     "metadata": {
      "needs_background": "light"
     },
     "output_type": "display_data"
    }
   ],
   "source": [
    "plt.figure(figsize=(10, 6))\n",
    "sns.barplot(x='age_range', y='subscribed', data=bank_data, ci = None, palette='Set2')"
   ]
  },
  {
   "cell_type": "markdown",
   "metadata": {},
   "source": [
    "By taking age groups with uniform distribution, we can see as expected that people who are the most likely to subscribe to term deposits are the youngest and the oldest. Indeed, we previously saw that students and retirees were the ideal target. Otherwise, people younger than 30 are also slightly more likely to subscribe."
   ]
  },
  {
   "cell_type": "markdown",
   "metadata": {},
   "source": [
    "# Random Forest"
   ]
  },
  {
   "cell_type": "code",
   "execution_count": 41,
   "metadata": {},
   "outputs": [],
   "source": [
    "from sklearn.model_selection import train_test_split\n",
    "from sklearn.preprocessing import StandardScaler\n",
    "from sklearn.ensemble import RandomForestClassifier\n",
    "from sklearn.metrics import classification_report\n",
    "from sklearn.model_selection import cross_validate, StratifiedKFold, GridSearchCV"
   ]
  },
  {
   "cell_type": "code",
   "execution_count": 19,
   "metadata": {},
   "outputs": [],
   "source": [
    "bank_data = bank_data.drop(['age_range'], axis=1)"
   ]
  },
  {
   "cell_type": "markdown",
   "metadata": {},
   "source": [
    "### Encoding"
   ]
  },
  {
   "cell_type": "code",
   "execution_count": 20,
   "metadata": {},
   "outputs": [],
   "source": [
    "bank_data = pd.concat([bank_data, pd.get_dummies(bank_data['job'])], sort=True, axis=1).drop(['job'], axis=1)\n",
    "bank_data = pd.concat([bank_data, pd.get_dummies(bank_data['marital'])], sort=True, axis=1).drop(['marital'], axis=1)\n",
    "bank_data = pd.concat([bank_data, pd.get_dummies(bank_data['education'])], sort=True, axis=1).drop(['education'], axis=1)\n",
    "bank_data = pd.concat([bank_data, pd.get_dummies(bank_data['contact'])], sort=True, axis=1).drop(['contact'], axis=1)\n",
    "bank_data = pd.concat([bank_data, pd.get_dummies(bank_data['day'])], sort=True, axis=1).drop(['day'], axis=1)\n",
    "bank_data = pd.concat([bank_data, pd.get_dummies(bank_data['month'])], sort=True, axis=1).drop(['month'], axis=1)\n",
    "bank_data = pd.concat([bank_data, pd.get_dummies(bank_data['poutcome'])], sort=True, axis=1).drop(['poutcome'], axis=1)"
   ]
  },
  {
   "cell_type": "markdown",
   "metadata": {},
   "source": [
    "### Split train-test"
   ]
  },
  {
   "cell_type": "code",
   "execution_count": 21,
   "metadata": {},
   "outputs": [],
   "source": [
    "X = bank_data.drop(['subscribed'], axis=1)\n",
    "y = bank_data['subscribed']\n",
    "\n",
    "X_train, X_test, y_train, y_test = train_test_split(X, y, random_state=42)"
   ]
  },
  {
   "cell_type": "markdown",
   "metadata": {},
   "source": [
    "### Normalization"
   ]
  },
  {
   "cell_type": "code",
   "execution_count": 22,
   "metadata": {},
   "outputs": [],
   "source": [
    "pd.options.mode.chained_assignment = None"
   ]
  },
  {
   "cell_type": "code",
   "execution_count": 23,
   "metadata": {},
   "outputs": [],
   "source": [
    "age_scaler = StandardScaler().fit(X_train[['age']])\n",
    "X_train['age'] = age_scaler.transform(X_train[['age']])\n",
    "X_test['age'] = age_scaler.transform(X_test[['age']])\n",
    "\n",
    "balance_scaler = StandardScaler().fit(X_train[['balance']])\n",
    "X_train['balance'] = balance_scaler.transform(X_train[['balance']])\n",
    "X_test['balance'] = balance_scaler.transform(X_test[['balance']])\n",
    "\n",
    "duration_scaler = StandardScaler().fit(X_train[['duration']])\n",
    "X_train['duration'] = duration_scaler.transform(X_train[['duration']])\n",
    "X_test['duration'] = duration_scaler.transform(X_test[['duration']])"
   ]
  },
  {
   "cell_type": "markdown",
   "metadata": {},
   "source": [
    "### Training"
   ]
  },
  {
   "cell_type": "markdown",
   "metadata": {},
   "source": [
    "After preprocessing of the data (i.e. one hot encoding of categorical data and normalization of numerical data), we now train our random forest classifier. To do that, we use the 3 following constraints: :\n",
    "\n",
    "1/ We use cross validation which splits the dataset in n folds. N-1 folds are used to train the model and the last fold is used to test it. This step is repeated until all folds are used to train and test. This technique helps to determine the robustness of the model because it is tested every time on a different set. \n",
    "\n",
    "2/ For the cross validation, we use stratified K-folds which allow to keep the same ratio of 0/1 categories. For cases where the dataset is unbalanced (which is the case here), it is helpful to keep a ratio similar to the original one.\n",
    "\n",
    "3/ As for the last point, the dataset is unbalanced so we need a way to compensate that. By giving a different weight to each class, the model tends to predict the majority class often. For example, if class-0 represents 90% of the dataset and class-1 represents 10% of the dataset, the model will be penalized 10 times more when misclassifying class-0. Here, we use class_weight = 'balanced' so the weights for the classes will be proportional to their ratio in the dataset."
   ]
  },
  {
   "cell_type": "code",
   "execution_count": 25,
   "metadata": {},
   "outputs": [
    {
     "name": "stdout",
     "output_type": "stream",
     "text": [
      "Fitting 5 folds for each of 240 candidates, totalling 1200 fits\n"
     ]
    },
    {
     "name": "stderr",
     "output_type": "stream",
     "text": [
      "[Parallel(n_jobs=-1)]: Using backend LokyBackend with 8 concurrent workers.\n",
      "[Parallel(n_jobs=-1)]: Done   9 tasks      | elapsed:   13.0s\n",
      "[Parallel(n_jobs=-1)]: Done  82 tasks      | elapsed:  1.3min\n",
      "[Parallel(n_jobs=-1)]: Done 205 tasks      | elapsed:  3.2min\n",
      "[Parallel(n_jobs=-1)]: Done 376 tasks      | elapsed:  7.3min\n",
      "[Parallel(n_jobs=-1)]: Done 597 tasks      | elapsed: 14.1min\n",
      "[Parallel(n_jobs=-1)]: Done 866 tasks      | elapsed: 27.4min\n",
      "[Parallel(n_jobs=-1)]: Done 1185 tasks      | elapsed: 44.7min\n",
      "[Parallel(n_jobs=-1)]: Done 1200 out of 1200 | elapsed: 45.5min finished\n"
     ]
    },
    {
     "data": {
      "text/plain": [
       "GridSearchCV(cv=StratifiedKFold(n_splits=5, random_state=42, shuffle=True),\n",
       "             error_score='raise-deprecating',\n",
       "             estimator=RandomForestClassifier(bootstrap=True, class_weight=None,\n",
       "                                              criterion='gini', max_depth=None,\n",
       "                                              max_features='auto',\n",
       "                                              max_leaf_nodes=None,\n",
       "                                              min_impurity_decrease=0.0,\n",
       "                                              min_impurity_split=None,\n",
       "                                              min_samples_leaf=1,\n",
       "                                              min_samples_split=2,\n",
       "                                              min_weight_fraction_leaf=0.0,\n",
       "                                              n_estimators='warn', n_jobs=None,\n",
       "                                              oob_score=False, random_state=42,\n",
       "                                              verbose=0, warm_start=False),\n",
       "             iid='warn', n_jobs=-1,\n",
       "             param_grid={'max_depth': [5, 10, 20, 50],\n",
       "                         'min_samples_leaf': [1, 2, 4, 8, 10],\n",
       "                         'min_samples_split': [2, 4, 8, 12],\n",
       "                         'n_estimators': [100, 300, 500]},\n",
       "             pre_dispatch='2*n_jobs', refit=True, return_train_score=False,\n",
       "             scoring='recall', verbose=4)"
      ]
     },
     "execution_count": 25,
     "metadata": {},
     "output_type": "execute_result"
    }
   ],
   "source": [
    "cv = StratifiedKFold(n_splits = 5, shuffle=True, random_state = 42)\n",
    "\n",
    "rdf = RandomForestClassifier(random_state = 42, class_weight = 'balanced') \n",
    "\n",
    "params = {'max_depth': [5, 10, 20, 50], \n",
    "              'min_samples_split': [2, 4, 8, 12],\n",
    "              'min_samples_leaf' : [1, 2, 4, 8, 10],\n",
    "              'n_estimators' : [100, 300, 500]\n",
    "             }\n",
    "\n",
    "grid_clf = GridSearchCV(estimator = rdf, param_grid = params, cv = cv, n_jobs=-1, verbose=4, scoring = 'recall')\n",
    "grid_clf.fit(X_train, y_train)\n"
   ]
  },
  {
   "cell_type": "code",
   "execution_count": 40,
   "metadata": {},
   "outputs": [
    {
     "name": "stdout",
     "output_type": "stream",
     "text": [
      "{'max_depth': 50, 'min_samples_leaf': 1, 'min_samples_split': 2, 'n_estimators': 300}\n"
     ]
    }
   ],
   "source": [
    "print(grid_clf.best_params_)"
   ]
  },
  {
   "cell_type": "code",
   "execution_count": 39,
   "metadata": {},
   "outputs": [
    {
     "name": "stdout",
     "output_type": "stream",
     "text": [
      "              precision    recall  f1-score   support\n",
      "\n",
      "           0       0.97      0.56      0.71      7984\n",
      "           1       0.21      0.86      0.33      1057\n",
      "\n",
      "    accuracy                           0.59      9041\n",
      "   macro avg       0.59      0.71      0.52      9041\n",
      "weighted avg       0.88      0.59      0.67      9041\n",
      "\n"
     ]
    }
   ],
   "source": [
    "y_pred = grid_clf.best_estimator_.predict(X_test)\n",
    "print(classification_report(y_test, y_pred))"
   ]
  },
  {
   "cell_type": "markdown",
   "metadata": {},
   "source": [
    "The choice of metric is always an important part of a project. Choosing the wrong metric could lead to bad results and time lost in optimizing the model for the wrong goal. \n",
    "\n",
    "In our case, we can't use accuracy because the dataset is too unbalanced. If we used accuracy, a naive model always predicting 0 could get a score of 88%. It sounds like a good score but the predictions would not help us at all in finding people that are the most likely to subscribe to a term deposit. \n",
    "\n",
    "Instead, we use recall as the score to optimize. Recall gives us information on how much 1 (subscription) we predict, whether or not we also predict 1 when the actual class is 0. Indeed, we rather want to call people that we are not sure if they are going to subscribe than calling only those who we are sure but missing opportunities.\n",
    "\n",
    "With this metric and grid search to find the best hyperparameters for our random forest, we were able to detect up to 86% of people who are going to subscribe."
   ]
  },
  {
   "cell_type": "code",
   "execution_count": 38,
   "metadata": {},
   "outputs": [],
   "source": []
  }
 ],
 "metadata": {
  "kernelspec": {
   "display_name": "Python 3",
   "language": "python",
   "name": "python3"
  },
  "language_info": {
   "codemirror_mode": {
    "name": "ipython",
    "version": 3
   },
   "file_extension": ".py",
   "mimetype": "text/x-python",
   "name": "python",
   "nbconvert_exporter": "python",
   "pygments_lexer": "ipython3",
   "version": "3.6.9"
  }
 },
 "nbformat": 4,
 "nbformat_minor": 2
}
